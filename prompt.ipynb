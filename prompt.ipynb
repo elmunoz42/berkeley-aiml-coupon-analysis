{
 "cells": [
  {
   "cell_type": "markdown",
   "metadata": {},
   "source": [
    "### Will a Customer Accept the Coupon?\n",
    "\n",
    "**Context**\n",
    "\n",
    "Imagine driving through town and a coupon is delivered to your cell phone for a restaraunt near where you are driving. Would you accept that coupon and take a short detour to the restaraunt? Would you accept the coupon but use it on a sunbsequent trip? Would you ignore the coupon entirely? What if the coupon was for a bar instead of a restaraunt? What about a coffee house? Would you accept a bar coupon with a minor passenger in the car? What about if it was just you and your partner in the car? Would weather impact the rate of acceptance? What about the time of day?\n",
    "\n",
    "Obviously, proximity to the business is a factor on whether the coupon is delivered to the driver or not, but what are the factors that determine whether a driver accepts the coupon once it is delivered to them? How would you determine whether a driver is likely to accept a coupon?\n",
    "\n",
    "**Overview**\n",
    "\n",
    "The goal of this project is to use what you know about visualizations and probability distributions to distinguish between customers who accepted a driving coupon versus those that did not.\n",
    "\n",
    "**Data**\n",
    "\n",
    "This data comes to us from the UCI Machine Learning repository and was collected via a survey on Amazon Mechanical Turk. The survey describes different driving scenarios including the destination, current time, weather, passenger, etc., and then ask the person whether he will accept the coupon if he is the driver. Answers that the user will drive there ‘right away’ or ‘later before the coupon expires’ are labeled as ‘Y = 1’ and answers ‘no, I do not want the coupon’ are labeled as ‘Y = 0’.  There are five different types of coupons -- less expensive restaurants (under \\\\$20), coffee houses, carry out & take away, bar, and more expensive restaurants (\\\\$20 - \\\\$50). "
   ]
  },
  {
   "cell_type": "markdown",
   "metadata": {},
   "source": [
    "**Deliverables**\n",
    "\n",
    "Your final product should be a brief report that highlights the differences between customers who did and did not accept the coupons.  To explore the data you will utilize your knowledge of plotting, statistical summaries, and visualization using Python. You will publish your findings in a public facing github repository as your first portfolio piece. \n",
    "\n",
    "\n",
    "\n"
   ]
  },
  {
   "cell_type": "markdown",
   "metadata": {},
   "source": [
    "### Data Description\n",
    "Keep in mind that these values mentioned below are average values.\n",
    "\n",
    "The attributes of this data set include:\n",
    "1. User attributes\n",
    "    -  Gender: male, female\n",
    "    -  Age: below 21, 21 to 25, 26 to 30, etc.\n",
    "    -  Marital Status: single, married partner, unmarried partner, or widowed\n",
    "    -  Number of children: 0, 1, or more than 1\n",
    "    -  Education: high school, bachelors degree, associates degree, or graduate degree\n",
    "    -  Occupation: architecture & engineering, business & financial, etc.\n",
    "    -  Annual income: less than \\\\$12500, \\\\$12500 - \\\\$24999, \\\\$25000 - \\\\$37499, etc.\n",
    "    -  Number of times that he/she goes to a bar: 0, less than 1, 1 to 3, 4 to 8 or greater than 8\n",
    "    -  Number of times that he/she buys takeaway food: 0, less than 1, 1 to 3, 4 to 8 or greater\n",
    "    than 8\n",
    "    -  Number of times that he/she goes to a coffee house: 0, less than 1, 1 to 3, 4 to 8 or\n",
    "    greater than 8\n",
    "    -  Number of times that he/she eats at a restaurant with average expense less than \\\\$20 per\n",
    "    person: 0, less than 1, 1 to 3, 4 to 8 or greater than 8\n",
    "    -  Number of times that he/she goes to a bar: 0, less than 1, 1 to 3, 4 to 8 or greater than 8\n",
    "    \n",
    "\n",
    "2. Contextual attributes\n",
    "    - Driving destination: home, work, or no urgent destination\n",
    "    - Location of user, coupon and destination: we provide a map to show the geographical\n",
    "    location of the user, destination, and the venue, and we mark the distance between each\n",
    "    two places with time of driving. The user can see whether the venue is in the same\n",
    "    direction as the destination.\n",
    "    - Weather: sunny, rainy, or snowy\n",
    "    - Temperature: 30F, 55F, or 80F\n",
    "    - Time: 10AM, 2PM, or 6PM\n",
    "    - Passenger: alone, partner, kid(s), or friend(s)\n",
    "\n",
    "\n",
    "3. Coupon attributes\n",
    "    - time before it expires: 2 hours or one day"
   ]
  },
  {
   "cell_type": "code",
   "execution_count": 62,
   "metadata": {},
   "outputs": [],
   "source": [
    "import matplotlib.pyplot as plt\n",
    "import seaborn as sns\n",
    "import pandas as pd\n",
    "import numpy as np\n",
    "import functions\n",
    "import warnings\n",
    "warnings.filterwarnings(\"ignore\", category=FutureWarning)"
   ]
  },
  {
   "cell_type": "markdown",
   "metadata": {},
   "source": [
    "### Problems\n",
    "\n",
    "Use the prompts below to get started with your data analysis.  \n",
    "\n",
    "1. Read in the `coupons.csv` file.\n",
    "\n",
    "\n"
   ]
  },
  {
   "cell_type": "code",
   "execution_count": 24,
   "metadata": {},
   "outputs": [],
   "source": [
    "data = pd.read_csv('data/coupons.csv')"
   ]
  },
  {
   "cell_type": "code",
   "execution_count": 3,
   "metadata": {},
   "outputs": [
    {
     "data": {
      "text/html": [
       "<div>\n",
       "<style scoped>\n",
       "    .dataframe tbody tr th:only-of-type {\n",
       "        vertical-align: middle;\n",
       "    }\n",
       "\n",
       "    .dataframe tbody tr th {\n",
       "        vertical-align: top;\n",
       "    }\n",
       "\n",
       "    .dataframe thead th {\n",
       "        text-align: right;\n",
       "    }\n",
       "</style>\n",
       "<table border=\"1\" class=\"dataframe\">\n",
       "  <thead>\n",
       "    <tr style=\"text-align: right;\">\n",
       "      <th></th>\n",
       "      <th>destination</th>\n",
       "      <th>passanger</th>\n",
       "      <th>weather</th>\n",
       "      <th>temperature</th>\n",
       "      <th>time</th>\n",
       "      <th>coupon</th>\n",
       "      <th>expiration</th>\n",
       "      <th>gender</th>\n",
       "      <th>age</th>\n",
       "      <th>maritalStatus</th>\n",
       "      <th>...</th>\n",
       "      <th>CoffeeHouse</th>\n",
       "      <th>CarryAway</th>\n",
       "      <th>RestaurantLessThan20</th>\n",
       "      <th>Restaurant20To50</th>\n",
       "      <th>toCoupon_GEQ5min</th>\n",
       "      <th>toCoupon_GEQ15min</th>\n",
       "      <th>toCoupon_GEQ25min</th>\n",
       "      <th>direction_same</th>\n",
       "      <th>direction_opp</th>\n",
       "      <th>Y</th>\n",
       "    </tr>\n",
       "  </thead>\n",
       "  <tbody>\n",
       "    <tr>\n",
       "      <th>0</th>\n",
       "      <td>No Urgent Place</td>\n",
       "      <td>Alone</td>\n",
       "      <td>Sunny</td>\n",
       "      <td>55</td>\n",
       "      <td>2PM</td>\n",
       "      <td>Restaurant(&lt;20)</td>\n",
       "      <td>1d</td>\n",
       "      <td>Female</td>\n",
       "      <td>21</td>\n",
       "      <td>Unmarried partner</td>\n",
       "      <td>...</td>\n",
       "      <td>never</td>\n",
       "      <td>NaN</td>\n",
       "      <td>4~8</td>\n",
       "      <td>1~3</td>\n",
       "      <td>1</td>\n",
       "      <td>0</td>\n",
       "      <td>0</td>\n",
       "      <td>0</td>\n",
       "      <td>1</td>\n",
       "      <td>1</td>\n",
       "    </tr>\n",
       "    <tr>\n",
       "      <th>1</th>\n",
       "      <td>No Urgent Place</td>\n",
       "      <td>Friend(s)</td>\n",
       "      <td>Sunny</td>\n",
       "      <td>80</td>\n",
       "      <td>10AM</td>\n",
       "      <td>Coffee House</td>\n",
       "      <td>2h</td>\n",
       "      <td>Female</td>\n",
       "      <td>21</td>\n",
       "      <td>Unmarried partner</td>\n",
       "      <td>...</td>\n",
       "      <td>never</td>\n",
       "      <td>NaN</td>\n",
       "      <td>4~8</td>\n",
       "      <td>1~3</td>\n",
       "      <td>1</td>\n",
       "      <td>0</td>\n",
       "      <td>0</td>\n",
       "      <td>0</td>\n",
       "      <td>1</td>\n",
       "      <td>0</td>\n",
       "    </tr>\n",
       "    <tr>\n",
       "      <th>2</th>\n",
       "      <td>No Urgent Place</td>\n",
       "      <td>Friend(s)</td>\n",
       "      <td>Sunny</td>\n",
       "      <td>80</td>\n",
       "      <td>10AM</td>\n",
       "      <td>Carry out &amp; Take away</td>\n",
       "      <td>2h</td>\n",
       "      <td>Female</td>\n",
       "      <td>21</td>\n",
       "      <td>Unmarried partner</td>\n",
       "      <td>...</td>\n",
       "      <td>never</td>\n",
       "      <td>NaN</td>\n",
       "      <td>4~8</td>\n",
       "      <td>1~3</td>\n",
       "      <td>1</td>\n",
       "      <td>1</td>\n",
       "      <td>0</td>\n",
       "      <td>0</td>\n",
       "      <td>1</td>\n",
       "      <td>1</td>\n",
       "    </tr>\n",
       "    <tr>\n",
       "      <th>3</th>\n",
       "      <td>No Urgent Place</td>\n",
       "      <td>Friend(s)</td>\n",
       "      <td>Sunny</td>\n",
       "      <td>80</td>\n",
       "      <td>2PM</td>\n",
       "      <td>Coffee House</td>\n",
       "      <td>2h</td>\n",
       "      <td>Female</td>\n",
       "      <td>21</td>\n",
       "      <td>Unmarried partner</td>\n",
       "      <td>...</td>\n",
       "      <td>never</td>\n",
       "      <td>NaN</td>\n",
       "      <td>4~8</td>\n",
       "      <td>1~3</td>\n",
       "      <td>1</td>\n",
       "      <td>1</td>\n",
       "      <td>0</td>\n",
       "      <td>0</td>\n",
       "      <td>1</td>\n",
       "      <td>0</td>\n",
       "    </tr>\n",
       "    <tr>\n",
       "      <th>4</th>\n",
       "      <td>No Urgent Place</td>\n",
       "      <td>Friend(s)</td>\n",
       "      <td>Sunny</td>\n",
       "      <td>80</td>\n",
       "      <td>2PM</td>\n",
       "      <td>Coffee House</td>\n",
       "      <td>1d</td>\n",
       "      <td>Female</td>\n",
       "      <td>21</td>\n",
       "      <td>Unmarried partner</td>\n",
       "      <td>...</td>\n",
       "      <td>never</td>\n",
       "      <td>NaN</td>\n",
       "      <td>4~8</td>\n",
       "      <td>1~3</td>\n",
       "      <td>1</td>\n",
       "      <td>1</td>\n",
       "      <td>0</td>\n",
       "      <td>0</td>\n",
       "      <td>1</td>\n",
       "      <td>0</td>\n",
       "    </tr>\n",
       "  </tbody>\n",
       "</table>\n",
       "<p>5 rows × 26 columns</p>\n",
       "</div>"
      ],
      "text/plain": [
       "       destination  passanger weather  temperature  time  \\\n",
       "0  No Urgent Place      Alone   Sunny           55   2PM   \n",
       "1  No Urgent Place  Friend(s)   Sunny           80  10AM   \n",
       "2  No Urgent Place  Friend(s)   Sunny           80  10AM   \n",
       "3  No Urgent Place  Friend(s)   Sunny           80   2PM   \n",
       "4  No Urgent Place  Friend(s)   Sunny           80   2PM   \n",
       "\n",
       "                  coupon expiration  gender age      maritalStatus  ...  \\\n",
       "0        Restaurant(<20)         1d  Female  21  Unmarried partner  ...   \n",
       "1           Coffee House         2h  Female  21  Unmarried partner  ...   \n",
       "2  Carry out & Take away         2h  Female  21  Unmarried partner  ...   \n",
       "3           Coffee House         2h  Female  21  Unmarried partner  ...   \n",
       "4           Coffee House         1d  Female  21  Unmarried partner  ...   \n",
       "\n",
       "   CoffeeHouse CarryAway RestaurantLessThan20 Restaurant20To50  \\\n",
       "0        never       NaN                  4~8              1~3   \n",
       "1        never       NaN                  4~8              1~3   \n",
       "2        never       NaN                  4~8              1~3   \n",
       "3        never       NaN                  4~8              1~3   \n",
       "4        never       NaN                  4~8              1~3   \n",
       "\n",
       "  toCoupon_GEQ5min toCoupon_GEQ15min toCoupon_GEQ25min direction_same  \\\n",
       "0                1                 0                 0              0   \n",
       "1                1                 0                 0              0   \n",
       "2                1                 1                 0              0   \n",
       "3                1                 1                 0              0   \n",
       "4                1                 1                 0              0   \n",
       "\n",
       "  direction_opp  Y  \n",
       "0             1  1  \n",
       "1             1  0  \n",
       "2             1  1  \n",
       "3             1  0  \n",
       "4             1  0  \n",
       "\n",
       "[5 rows x 26 columns]"
      ]
     },
     "execution_count": 3,
     "metadata": {},
     "output_type": "execute_result"
    }
   ],
   "source": [
    "data.head()"
   ]
  },
  {
   "cell_type": "markdown",
   "metadata": {},
   "source": [
    "2. Investigate the dataset for missing or problematic data."
   ]
  },
  {
   "cell_type": "code",
   "execution_count": 20,
   "metadata": {},
   "outputs": [
    {
     "data": {
      "image/png": "[encoded data removed]",
      "text/plain": [
       "<Figure size 1200x600 with 1 Axes>"
      ]
     },
     "metadata": {},
     "output_type": "display_data"
    },
    {
     "data": {
      "text/plain": [
       "<Figure size 640x480 with 0 Axes>"
      ]
     },
     "metadata": {},
     "output_type": "display_data"
    }
   ],
   "source": [
    "# Gets the mean of missing values in each column. Since True = 1 and False = 0 the mean tells us how much of the data is missing.\n",
    "missing_values = data.isnull().mean().sort_values(ascending=False)\n",
    "\n",
    "# Create the bar plot\n",
    "plt.figure(figsize=(12, 6))\n",
    "missing_plot = missing_values.plot(kind='bar')\n",
    "\n",
    "# Customize the plot\n",
    "plt.xlabel('Columns')\n",
    "plt.ylabel('Number of Missing Values')\n",
    "plt.title('Missing Value Ratio per Column (Sorted)')\n",
    "plt.xticks(rotation=45, ha='right')\n",
    "plt.tight_layout()\n",
    "\n",
    "# Show the plot\n",
    "plt.show()\n",
    "plt.savefig('images/data-cleanup/missing_plot.png')"
   ]
  },
  {
   "cell_type": "code",
   "execution_count": 20,
   "metadata": {},
   "outputs": [
    {
     "name": "stdout",
     "output_type": "stream",
     "text": [
      "car\n",
      "Scooter and motorcycle                      22\n",
      "Mazda5                                      22\n",
      "do not drive                                22\n",
      "crossover                                   21\n",
      "Car that is too old to install Onstar :D    21\n",
      "Name: count, dtype: int64\n",
      "Percentage missing: 99.14853358561967\n"
     ]
    }
   ],
   "source": [
    "# What are the values in the \"car\" column and how many rows have null values. \n",
    "data['car'].value_counts()\n",
    "print(data['car'].value_counts())\n",
    "percentage_of_missing_car = data['car'].isnull().mean() * 100\n",
    "print(f\"Percentage missing: {percentage_of_missing_car}\")\n",
    "\n",
    "# This process is abstracted hence forth with the inspect_dataframe_column() function"
   ]
  },
  {
   "cell_type": "code",
   "execution_count": 19,
   "metadata": {},
   "outputs": [
    {
     "name": "stdout",
     "output_type": "stream",
     "text": [
      "destination\n",
      "No Urgent Place    6283\n",
      "Home               3237\n",
      "Work               3164\n",
      "Name: count, dtype: int64\n",
      "Percentage missing: 0.0\n",
      "-------------------------\n",
      "passanger\n",
      "Alone        7305\n",
      "Friend(s)    3298\n",
      "Partner      1075\n",
      "Kid(s)       1006\n",
      "Name: count, dtype: int64\n",
      "Percentage missing: 0.0\n",
      "-------------------------\n",
      "weather\n",
      "Sunny    10069\n",
      "Snowy     1405\n",
      "Rainy     1210\n",
      "Name: count, dtype: int64\n",
      "Percentage missing: 0.0\n",
      "-------------------------\n",
      "temperature\n",
      "80    6528\n",
      "55    3840\n",
      "30    2316\n",
      "Name: count, dtype: int64\n",
      "Percentage missing: 0.0\n",
      "-------------------------\n",
      "time\n",
      "6PM     3230\n",
      "7AM     3164\n",
      "10AM    2275\n",
      "2PM     2009\n",
      "10PM    2006\n",
      "Name: count, dtype: int64\n",
      "Percentage missing: 0.0\n",
      "-------------------------\n",
      "coupon\n",
      "Coffee House             3996\n",
      "Restaurant(<20)          2786\n",
      "Carry out & Take away    2393\n",
      "Bar                      2017\n",
      "Restaurant(20-50)        1492\n",
      "Name: count, dtype: int64\n",
      "Percentage missing: 0.0\n",
      "-------------------------\n",
      "expiration\n",
      "1d    7091\n",
      "2h    5593\n",
      "Name: count, dtype: int64\n",
      "Percentage missing: 0.0\n",
      "-------------------------\n",
      "gender\n",
      "Female    6511\n",
      "Male      6173\n",
      "Name: count, dtype: int64\n",
      "Percentage missing: 0.0\n",
      "-------------------------\n",
      "age\n",
      "21         2653\n",
      "26         2559\n",
      "31         2039\n",
      "50plus     1788\n",
      "36         1319\n",
      "41         1093\n",
      "46          686\n",
      "below21     547\n",
      "Name: count, dtype: int64\n",
      "Percentage missing: 0.0\n",
      "-------------------------\n",
      "maritalStatus\n",
      "Married partner      5100\n",
      "Single               4752\n",
      "Unmarried partner    2186\n",
      "Divorced              516\n",
      "Widowed               130\n",
      "Name: count, dtype: int64\n",
      "Percentage missing: 0.0\n",
      "-------------------------\n",
      "has_children\n",
      "0    7431\n",
      "1    5253\n",
      "Name: count, dtype: int64\n",
      "Percentage missing: 0.0\n",
      "-------------------------\n",
      "education\n",
      "Some college - no degree                  4351\n",
      "Bachelors degree                          4335\n",
      "Graduate degree (Masters or Doctorate)    1852\n",
      "Associates degree                         1153\n",
      "High School Graduate                       905\n",
      "Some High School                            88\n",
      "Name: count, dtype: int64\n",
      "Percentage missing: 0.0\n",
      "-------------------------\n",
      "occupation\n",
      "Unemployed                                   1870\n",
      "Student                                      1584\n",
      "Computer & Mathematical                      1408\n",
      "Sales & Related                              1093\n",
      "Education&Training&Library                    943\n",
      "Management                                    838\n",
      "Office & Administrative Support               639\n",
      "Arts Design Entertainment Sports & Media      629\n",
      "Business & Financial                          544\n",
      "Retired                                       495\n",
      "Food Preparation & Serving Related            298\n",
      "Healthcare Practitioners & Technical          244\n",
      "Healthcare Support                            242\n",
      "Community & Social Services                   241\n",
      "Legal                                         219\n",
      "Transportation & Material Moving              218\n",
      "Architecture & Engineering                    175\n",
      "Personal Care & Service                       175\n",
      "Protective Service                            175\n",
      "Life Physical Social Science                  170\n",
      "Construction & Extraction                     154\n",
      "Installation Maintenance & Repair             133\n",
      "Production Occupations                        110\n",
      "Building & Grounds Cleaning & Maintenance      44\n",
      "Farming Fishing & Forestry                     43\n",
      "Name: count, dtype: int64\n",
      "Percentage missing: 0.0\n",
      "-------------------------\n",
      "income\n",
      "$25000 - $37499     2013\n",
      "$12500 - $24999     1831\n",
      "$37500 - $49999     1805\n",
      "$100000 or More     1736\n",
      "$50000 - $62499     1659\n",
      "Less than $12500    1042\n",
      "$87500 - $99999      895\n",
      "$75000 - $87499      857\n",
      "$62500 - $74999      846\n",
      "Name: count, dtype: int64\n",
      "Percentage missing: 0.0\n",
      "-------------------------\n",
      "car\n",
      "Scooter and motorcycle                      22\n",
      "Mazda5                                      22\n",
      "do not drive                                22\n",
      "crossover                                   21\n",
      "Car that is too old to install Onstar :D    21\n",
      "Name: count, dtype: int64\n",
      "Percentage missing: 99.14853358561967\n",
      "-------------------------\n",
      "Bar\n",
      "never    5197\n",
      "less1    3482\n",
      "1~3      2473\n",
      "4~8      1076\n",
      "gt8       349\n",
      "Name: count, dtype: int64\n",
      "Percentage missing: 0.8435824660990224\n",
      "-------------------------\n",
      "CoffeeHouse\n",
      "less1    3385\n",
      "1~3      3225\n",
      "never    2962\n",
      "4~8      1784\n",
      "gt8      1111\n",
      "Name: count, dtype: int64\n",
      "Percentage missing: 1.7108167770419427\n",
      "-------------------------\n",
      "CarryAway\n",
      "1~3      4672\n",
      "4~8      4258\n",
      "less1    1856\n",
      "gt8      1594\n",
      "never     153\n",
      "Name: count, dtype: int64\n",
      "Percentage missing: 1.1904761904761905\n",
      "-------------------------\n",
      "RestaurantLessThan20\n",
      "1~3      5376\n",
      "4~8      3580\n",
      "less1    2093\n",
      "gt8      1285\n",
      "never     220\n",
      "Name: count, dtype: int64\n",
      "Percentage missing: 1.0249132765689057\n",
      "-------------------------\n",
      "Restaurant20To50\n",
      "less1    6077\n",
      "1~3      3290\n",
      "never    2136\n",
      "4~8       728\n",
      "gt8       264\n",
      "Name: count, dtype: int64\n",
      "Percentage missing: 1.490066225165563\n",
      "-------------------------\n",
      "toCoupon_GEQ5min\n",
      "1    12684\n",
      "Name: count, dtype: int64\n",
      "Percentage missing: 0.0\n",
      "-------------------------\n",
      "toCoupon_GEQ15min\n",
      "1    7122\n",
      "0    5562\n",
      "Name: count, dtype: int64\n",
      "Percentage missing: 0.0\n",
      "-------------------------\n",
      "toCoupon_GEQ25min\n",
      "0    11173\n",
      "1     1511\n",
      "Name: count, dtype: int64\n",
      "Percentage missing: 0.0\n",
      "-------------------------\n",
      "direction_same\n",
      "0    9960\n",
      "1    2724\n",
      "Name: count, dtype: int64\n",
      "Percentage missing: 0.0\n",
      "-------------------------\n",
      "direction_opp\n",
      "1    9960\n",
      "0    2724\n",
      "Name: count, dtype: int64\n",
      "Percentage missing: 0.0\n",
      "-------------------------\n",
      "Y\n",
      "1    7210\n",
      "0    5474\n",
      "Name: count, dtype: int64\n",
      "Percentage missing: 0.0\n",
      "-------------------------\n"
     ]
    }
   ],
   "source": [
    "# What are the values in the each column and how many rows have null/missing values. Same process as above with a for loop and function.\n",
    "columns = data.columns\n",
    "for column in columns:\n",
    "    functions.inspect_dataframe_column(data, column)\n",
    "    print(\"-------------------------\")"
   ]
  },
  {
   "cell_type": "markdown",
   "metadata": {},
   "source": [
    "3. Decide what to do about your missing data -- drop, replace, other..."
   ]
  },
  {
   "cell_type": "markdown",
   "metadata": {},
   "source": [
    "## Data Cleanup\n",
    "\n",
    "### Based on our inspection of the above dataframe columns we find that some values are missing. For the 'CoffeeHouse','Restaurant20To50','CarryAway','RestaurantLessThan20','Bar' it will suffice to replace the null values with the value \"Unknown\". By adding this value we leave the door open for a pattern to emerge for these unknown entries in future analysis, if there happend to be one. If for example a specific demographic disproportionately had a value set as \"Unkonwn\" there might be more going on. \n",
    "\n",
    "### The 'car' column on the other hand has more than 99% of data marked as null and is therefore not useful, so we will remove that column from the dataset. It might have been an issue with the user interface or form the user was presented with."
   ]
  },
  {
   "cell_type": "code",
   "execution_count": 94,
   "metadata": {},
   "outputs": [
    {
     "data": {
      "text/html": [
       "<div>\n",
       "<style scoped>\n",
       "    .dataframe tbody tr th:only-of-type {\n",
       "        vertical-align: middle;\n",
       "    }\n",
       "\n",
       "    .dataframe tbody tr th {\n",
       "        vertical-align: top;\n",
       "    }\n",
       "\n",
       "    .dataframe thead th {\n",
       "        text-align: right;\n",
       "    }\n",
       "</style>\n",
       "<table border=\"1\" class=\"dataframe\">\n",
       "  <thead>\n",
       "    <tr style=\"text-align: right;\">\n",
       "      <th></th>\n",
       "      <th>DESTINATION</th>\n",
       "      <th>PASSANGER</th>\n",
       "      <th>WEATHER</th>\n",
       "      <th>TEMPERATURE</th>\n",
       "      <th>TIME</th>\n",
       "      <th>COUPON</th>\n",
       "      <th>EXPIRATION</th>\n",
       "      <th>GENDER</th>\n",
       "      <th>AGE</th>\n",
       "      <th>MARITAL_STATUS</th>\n",
       "      <th>...</th>\n",
       "      <th>COFFEE_HOUSE</th>\n",
       "      <th>CARRYAWAY</th>\n",
       "      <th>RESTAURANT_LESS_THAN_20</th>\n",
       "      <th>RESTAURANT_20_TO_50</th>\n",
       "      <th>TOCOUPON_GEQ5MIN</th>\n",
       "      <th>TOCOUPON_GEQ15MIN</th>\n",
       "      <th>TOCOUPON_GEQ25MIN</th>\n",
       "      <th>DIRECTION_SAME</th>\n",
       "      <th>DIRECTION_OPP</th>\n",
       "      <th>COUPON_SUCCESS</th>\n",
       "    </tr>\n",
       "  </thead>\n",
       "  <tbody>\n",
       "    <tr>\n",
       "      <th>0</th>\n",
       "      <td>No Urgent Place</td>\n",
       "      <td>Alone</td>\n",
       "      <td>Sunny</td>\n",
       "      <td>55</td>\n",
       "      <td>2PM</td>\n",
       "      <td>Restaurant(&lt;20)</td>\n",
       "      <td>1d</td>\n",
       "      <td>Female</td>\n",
       "      <td>21</td>\n",
       "      <td>Unmarried partner</td>\n",
       "      <td>...</td>\n",
       "      <td>never</td>\n",
       "      <td>Unknown</td>\n",
       "      <td>4~8</td>\n",
       "      <td>1~3</td>\n",
       "      <td>1</td>\n",
       "      <td>0</td>\n",
       "      <td>0</td>\n",
       "      <td>0</td>\n",
       "      <td>1</td>\n",
       "      <td>1</td>\n",
       "    </tr>\n",
       "    <tr>\n",
       "      <th>1</th>\n",
       "      <td>No Urgent Place</td>\n",
       "      <td>Friend(s)</td>\n",
       "      <td>Sunny</td>\n",
       "      <td>80</td>\n",
       "      <td>10AM</td>\n",
       "      <td>Coffee House</td>\n",
       "      <td>2h</td>\n",
       "      <td>Female</td>\n",
       "      <td>21</td>\n",
       "      <td>Unmarried partner</td>\n",
       "      <td>...</td>\n",
       "      <td>never</td>\n",
       "      <td>Unknown</td>\n",
       "      <td>4~8</td>\n",
       "      <td>1~3</td>\n",
       "      <td>1</td>\n",
       "      <td>0</td>\n",
       "      <td>0</td>\n",
       "      <td>0</td>\n",
       "      <td>1</td>\n",
       "      <td>0</td>\n",
       "    </tr>\n",
       "    <tr>\n",
       "      <th>2</th>\n",
       "      <td>No Urgent Place</td>\n",
       "      <td>Friend(s)</td>\n",
       "      <td>Sunny</td>\n",
       "      <td>80</td>\n",
       "      <td>10AM</td>\n",
       "      <td>Carry out &amp; Take away</td>\n",
       "      <td>2h</td>\n",
       "      <td>Female</td>\n",
       "      <td>21</td>\n",
       "      <td>Unmarried partner</td>\n",
       "      <td>...</td>\n",
       "      <td>never</td>\n",
       "      <td>Unknown</td>\n",
       "      <td>4~8</td>\n",
       "      <td>1~3</td>\n",
       "      <td>1</td>\n",
       "      <td>1</td>\n",
       "      <td>0</td>\n",
       "      <td>0</td>\n",
       "      <td>1</td>\n",
       "      <td>1</td>\n",
       "    </tr>\n",
       "    <tr>\n",
       "      <th>3</th>\n",
       "      <td>No Urgent Place</td>\n",
       "      <td>Friend(s)</td>\n",
       "      <td>Sunny</td>\n",
       "      <td>80</td>\n",
       "      <td>2PM</td>\n",
       "      <td>Coffee House</td>\n",
       "      <td>2h</td>\n",
       "      <td>Female</td>\n",
       "      <td>21</td>\n",
       "      <td>Unmarried partner</td>\n",
       "      <td>...</td>\n",
       "      <td>never</td>\n",
       "      <td>Unknown</td>\n",
       "      <td>4~8</td>\n",
       "      <td>1~3</td>\n",
       "      <td>1</td>\n",
       "      <td>1</td>\n",
       "      <td>0</td>\n",
       "      <td>0</td>\n",
       "      <td>1</td>\n",
       "      <td>0</td>\n",
       "    </tr>\n",
       "    <tr>\n",
       "      <th>4</th>\n",
       "      <td>No Urgent Place</td>\n",
       "      <td>Friend(s)</td>\n",
       "      <td>Sunny</td>\n",
       "      <td>80</td>\n",
       "      <td>2PM</td>\n",
       "      <td>Coffee House</td>\n",
       "      <td>1d</td>\n",
       "      <td>Female</td>\n",
       "      <td>21</td>\n",
       "      <td>Unmarried partner</td>\n",
       "      <td>...</td>\n",
       "      <td>never</td>\n",
       "      <td>Unknown</td>\n",
       "      <td>4~8</td>\n",
       "      <td>1~3</td>\n",
       "      <td>1</td>\n",
       "      <td>1</td>\n",
       "      <td>0</td>\n",
       "      <td>0</td>\n",
       "      <td>1</td>\n",
       "      <td>0</td>\n",
       "    </tr>\n",
       "  </tbody>\n",
       "</table>\n",
       "<p>5 rows × 25 columns</p>\n",
       "</div>"
      ],
      "text/plain": [
       "       DESTINATION  PASSANGER WEATHER  TEMPERATURE  TIME  \\\n",
       "0  No Urgent Place      Alone   Sunny           55   2PM   \n",
       "1  No Urgent Place  Friend(s)   Sunny           80  10AM   \n",
       "2  No Urgent Place  Friend(s)   Sunny           80  10AM   \n",
       "3  No Urgent Place  Friend(s)   Sunny           80   2PM   \n",
       "4  No Urgent Place  Friend(s)   Sunny           80   2PM   \n",
       "\n",
       "                  COUPON EXPIRATION  GENDER AGE     MARITAL_STATUS  ...  \\\n",
       "0        Restaurant(<20)         1d  Female  21  Unmarried partner  ...   \n",
       "1           Coffee House         2h  Female  21  Unmarried partner  ...   \n",
       "2  Carry out & Take away         2h  Female  21  Unmarried partner  ...   \n",
       "3           Coffee House         2h  Female  21  Unmarried partner  ...   \n",
       "4           Coffee House         1d  Female  21  Unmarried partner  ...   \n",
       "\n",
       "   COFFEE_HOUSE CARRYAWAY RESTAURANT_LESS_THAN_20 RESTAURANT_20_TO_50  \\\n",
       "0         never   Unknown                     4~8                 1~3   \n",
       "1         never   Unknown                     4~8                 1~3   \n",
       "2         never   Unknown                     4~8                 1~3   \n",
       "3         never   Unknown                     4~8                 1~3   \n",
       "4         never   Unknown                     4~8                 1~3   \n",
       "\n",
       "  TOCOUPON_GEQ5MIN TOCOUPON_GEQ15MIN TOCOUPON_GEQ25MIN DIRECTION_SAME  \\\n",
       "0                1                 0                 0              0   \n",
       "1                1                 0                 0              0   \n",
       "2                1                 1                 0              0   \n",
       "3                1                 1                 0              0   \n",
       "4                1                 1                 0              0   \n",
       "\n",
       "  DIRECTION_OPP  COUPON_SUCCESS  \n",
       "0             1               1  \n",
       "1             1               0  \n",
       "2             1               1  \n",
       "3             1               0  \n",
       "4             1               0  \n",
       "\n",
       "[5 rows x 25 columns]"
      ]
     },
     "execution_count": 94,
     "metadata": {},
     "output_type": "execute_result"
    }
   ],
   "source": [
    "# We will thus remove the 'car' column from the dataframe...\n",
    "data_clean = data.drop('car', axis=1)\n",
    "\n",
    "# And replace the remaining null values with \"Unknown\".\n",
    "data_clean = data_clean.fillna('Unknown')\n",
    "\n",
    "# finally to make the column naming more consistent we'll change them to all caps\n",
    "data_clean.columns = data_clean.columns.str.upper()\n",
    "\n",
    "# Secondly we'll standardize the spacing for multiple word columns\n",
    "# Create a dictionary that maps old column names to new ones\n",
    "# Note that 'Y' has been renamed 'COUPON_SUCCESS' to indicate that the coupon was used by the customer.\n",
    "column_names = {\n",
    "    'Y': 'COUPON_SUCCESS',\n",
    "    'MARITALSTATUS': 'MARITAL_STATUS',\n",
    "    'COFFEEHOUSE': 'COFFEE_HOUSE',\n",
    "    'RESTAURANTLESSTHAN20': 'RESTAURANT_LESS_THAN_20',\n",
    "    'RESTAURANT20TO50': 'RESTAURANT_20_TO_50',\n",
    "}\n",
    "\n",
    "# Rename the columns\n",
    "data_clean = data_clean.rename(columns=column_names)\n",
    "\n",
    "# first 5 rows of the new clean dataframe.\n",
    "data_clean.head(5)\n"
   ]
  },
  {
   "cell_type": "markdown",
   "metadata": {},
   "source": [
    "4. What proportion of the total observations chose to accept the coupon? \n",
    "\n"
   ]
  },
  {
   "cell_type": "code",
   "execution_count": 95,
   "metadata": {},
   "outputs": [
    {
     "name": "stdout",
     "output_type": "stream",
     "text": [
      "COUPON_SUCCESS    0.568433\n",
      "dtype: float64\n"
     ]
    }
   ],
   "source": [
    "# Get the proportion of coupons accepted\n",
    "coupons_accepted = data_clean.query('COUPON_SUCCESS == 1').count()[['COUPON_SUCCESS']]\n",
    "proportion_of_accepted_coupons = coupons_accepted  / data_clean.shape[0]\n",
    "print(proportion_of_accepted_coupons)"
   ]
  },
  {
   "cell_type": "markdown",
   "metadata": {},
   "source": [
    "5. Use a bar plot to visualize the `coupon` column."
   ]
  },
  {
   "cell_type": "code",
   "execution_count": 97,
   "metadata": {},
   "outputs": [
    {
     "data": {
      "text/plain": [
       "[Text(0.5, 1.0, 'Acceptance Ratio of Different Types of Coupons')]"
      ]
     },
     "execution_count": 97,
     "metadata": {},
     "output_type": "execute_result"
    },
    {
     "data": {
      "image/png": "[encoded data removed]",
      "text/plain": [
       "<Figure size 640x480 with 1 Axes>"
      ]
     },
     "metadata": {},
     "output_type": "display_data"
    }
   ],
   "source": [
    "\n",
    "sns.barplot(data_clean, y='COUPON', x='COUPON_SUCCESS').set(title=\"Acceptance Ratio of Different Types of Coupons\")"
   ]
  },
  {
   "cell_type": "markdown",
   "metadata": {},
   "source": [
    "## Acceptance Ratio of Different Types of Coupons Analysis:\n",
    "\n",
    "As you can see Carry out & Take away is the most accepted coupon followed by the inexpensive restaurant coupon. "
   ]
  },
  {
   "cell_type": "markdown",
   "metadata": {},
   "source": [
    "6. Use a histogram to visualize the temperature column."
   ]
  },
  {
   "cell_type": "code",
   "execution_count": 98,
   "metadata": {},
   "outputs": [
    {
     "data": {
      "text/plain": [
       "[Text(0.5, 1.0, 'Acceptance of Coupons by Temperature Value (33, 55, 80 Farenheit)')]"
      ]
     },
     "execution_count": 98,
     "metadata": {},
     "output_type": "execute_result"
    },
    {
     "data": {
      "image/png": "[encoded data removed]",
      "text/plain": [
       "<Figure size 640x480 with 1 Axes>"
      ]
     },
     "metadata": {},
     "output_type": "display_data"
    }
   ],
   "source": [
    "# Renaming some columns to make the plot more clear\n",
    "plot = sns.histplot(data_clean, x=\"TEMPERATURE\", hue=\"COUPON_SUCCESS\")\n",
    "plot.set(title=\"Acceptance of Coupons by Temperature Value (33, 55, 80 Farenheit)\")\n"
   ]
  },
  {
   "cell_type": "markdown",
   "metadata": {},
   "source": [
    "## Acceptance of Coupons by Temperature Value\n",
    "\n",
    "As you can see the highest temparature of 80 degrees resulted in more than twice the coupon adoption. As a follow up lets investigate that temperature and see what the most popular coupons are at 80 degrees."
   ]
  },
  {
   "cell_type": "code",
   "execution_count": 101,
   "metadata": {},
   "outputs": [
    {
     "data": {
      "text/plain": [
       "[Text(0.5, 1.0, 'Coupon Success in High Temperature by Coupon Name')]"
      ]
     },
     "execution_count": 101,
     "metadata": {},
     "output_type": "execute_result"
    },
    {
     "data": {
      "image/png": "[encoded data removed]",
      "text/plain": [
       "<Figure size 640x480 with 1 Axes>"
      ]
     },
     "metadata": {},
     "output_type": "display_data"
    }
   ],
   "source": [
    "plot = sns.barplot(data_clean.query('TEMPERATURE == 80'), x=\"COUPON_SUCCESS\", y=\"COUPON\")\n",
    "plot.set(title=\"Coupon Success in High Temperature by Coupon Name\")"
   ]
  },
  {
   "cell_type": "markdown",
   "metadata": {},
   "source": [
    "## Coupon Acceptance in High Temperature by Coupon Name Analysis\n",
    "\n",
    "Interestingly the inexpencive restaurant (Restaurant(<20)) and the Carry out & Take Away coupons are the most popular in high heat conditions. Surprisingly the Bar coupon has the best performance. You'd think that people would want a refreshment at a bar to cool down, but that is not born out by the data. Based on this data analysis it appears that people perhaps don't want to cook in a hot kitchen and would rather be in a temperature controlled restaurant or at least have take out that doesn't require laborious cooking. Of course the actual reason for this two coupons exceptional performance isn't explained by the data, whatever the actual reason for this performance it does seem to be particularly effective. First of all the coupons in general are much more effective in hot days, and secondly they are especially effective for carry out and inexpensive restaurants."
   ]
  },
  {
   "cell_type": "markdown",
   "metadata": {},
   "source": [
    "**Investigating the Bar Coupons**\n",
    "\n",
    "Now, we will lead you through an exploration of just the bar related coupons.  \n",
    "\n",
    "1. Create a new `DataFrame` that contains just the bar coupons.\n"
   ]
  },
  {
   "cell_type": "code",
   "execution_count": 115,
   "metadata": {},
   "outputs": [],
   "source": [
    "data_only_bar_coupon = data_clean.query(\"COUPON == 'Bar'\")"
   ]
  },
  {
   "cell_type": "markdown",
   "metadata": {},
   "source": [
    "2. What proportion of bar coupons were accepted?\n"
   ]
  },
  {
   "cell_type": "code",
   "execution_count": 125,
   "metadata": {},
   "outputs": [
    {
     "name": "stdout",
     "output_type": "stream",
     "text": [
      "COUPON_SUCCESS    0.410015\n",
      "dtype: float64\n"
     ]
    }
   ],
   "source": [
    "proportion_of_bar_coupon_success = data_only_bar_coupon.query('COUPON_SUCCESS == 1').count()[['COUPON_SUCCESS']] / data_only_bar_coupon['COUPON_SUCCESS'].count()\n",
    "print(proportion_of_bar_coupon_success)"
   ]
  },
  {
   "cell_type": "markdown",
   "metadata": {},
   "source": [
    "3. Compare the acceptance rate between those who went to a bar 3 or fewer times a month to those who went more.\n"
   ]
  },
  {
   "cell_type": "code",
   "execution_count": null,
   "metadata": {},
   "outputs": [],
   "source": []
  },
  {
   "cell_type": "markdown",
   "metadata": {},
   "source": [
    "4. Compare the acceptance rate between drivers who go to a bar more than once a month and are over the age of 25 to the all others.  Is there a difference?\n"
   ]
  },
  {
   "cell_type": "code",
   "execution_count": null,
   "metadata": {},
   "outputs": [],
   "source": []
  },
  {
   "cell_type": "markdown",
   "metadata": {},
   "source": [
    "5. Use the same process to compare the acceptance rate between drivers who go to bars more than once a month and had passengers that were not a kid and had occupations other than farming, fishing, or forestry. \n"
   ]
  },
  {
   "cell_type": "code",
   "execution_count": null,
   "metadata": {},
   "outputs": [],
   "source": []
  },
  {
   "cell_type": "markdown",
   "metadata": {},
   "source": [
    "6. Compare the acceptance rates between those drivers who:\n",
    "\n",
    "- go to bars more than once a month, had passengers that were not a kid, and were not widowed *OR*\n",
    "- go to bars more than once a month and are under the age of 30 *OR*\n",
    "- go to cheap restaurants more than 4 times a month and income is less than 50K. \n",
    "\n"
   ]
  },
  {
   "cell_type": "code",
   "execution_count": null,
   "metadata": {},
   "outputs": [],
   "source": []
  },
  {
   "cell_type": "markdown",
   "metadata": {},
   "source": [
    "7.  Based on these observations, what do you hypothesize about drivers who accepted the bar coupons?"
   ]
  },
  {
   "cell_type": "code",
   "execution_count": null,
   "metadata": {},
   "outputs": [],
   "source": []
  },
  {
   "cell_type": "markdown",
   "metadata": {},
   "source": [
    "### Independent Investigation\n",
    "\n",
    "Using the bar coupon example as motivation, you are to explore one of the other coupon groups and try to determine the characteristics of passengers who accept the coupons.  "
   ]
  },
  {
   "cell_type": "code",
   "execution_count": null,
   "metadata": {},
   "outputs": [],
   "source": []
  },
  {
   "cell_type": "code",
   "execution_count": null,
   "metadata": {},
   "outputs": [],
   "source": []
  },
  {
   "cell_type": "code",
   "execution_count": null,
   "metadata": {},
   "outputs": [],
   "source": []
  },
  {
   "cell_type": "code",
   "execution_count": null,
   "metadata": {},
   "outputs": [],
   "source": []
  },
  {
   "cell_type": "code",
   "execution_count": null,
   "metadata": {},
   "outputs": [],
   "source": []
  }
 ],
 "metadata": {
  "kernelspec": {
   "display_name": "Python 3 (ipykernel)",
   "language": "python",
   "name": "python3"
  },
  "language_info": {
   "codemirror_mode": {
    "name": "ipython",
    "version": 3
   },
   "file_extension": ".py",
   "mimetype": "text/x-python",
   "name": "python",
   "nbconvert_exporter": "python",
   "pygments_lexer": "ipython3",
   "version": "3.11.7"
  },
  "widgets": {
   "application/vnd.jupyter.widget-state+json": {
    "state": {},
    "version_major": 2,
    "version_minor": 0
   }
  }
 },
 "nbformat": 4,
 "nbformat_minor": 4
}
